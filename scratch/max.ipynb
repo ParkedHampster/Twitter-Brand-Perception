{
 "cells": [
  {
   "cell_type": "code",
   "execution_count": 57,
   "metadata": {},
   "outputs": [],
   "source": [
    "import pandas as pd\n",
    "import numpy as np\n",
    "import re\n",
    "from nltk.corpus import stopwords, wordnet\n",
    "from nltk.tokenize import RegexpTokenizer\n",
    "from nltk.stem import WordNetLemmatizer\n",
    "from sklearn.feature_extraction.text import CountVectorizer,TfidfVectorizer\n",
    "from sklearn.decomposition import PCA\n",
    "from sklearn.model_selection import train_test_split, GridSearchCV\n",
    "from sklearn.metrics import f1_score, make_scorer, plot_confusion_matrix\n",
    "from wordcloud import WordCloud\n",
    "\n",
    "from sklearn.naive_bayes import MultinomialNB\n",
    "from sklearn.cluster import KMeans\n",
    "from sklearn.ensemble import RandomForestClassifier\n",
    "from sklearn.svm import SVC\n",
    "from sklearn.neighbors import KNeighborsClassifier\n",
    "from sklearn.pipeline import Pipeline\n",
    "from sklearn.dummy import DummyClassifier\n",
    "\n",
    "from imblearn.over_sampling import SMOTENC, SMOTE\n",
    "from imblearn.pipeline import Pipeline as imbPipeline\n",
    "\n",
    "import matplotlib.pyplot as plt\n",
    "import seaborn as sns\n",
    "\n",
    "from code.cleaner import preprocess\n",
    "from code.viz import word_plot\n",
    "\n",
    "sns.set()"
   ]
  },
  {
   "cell_type": "code",
   "execution_count": 2,
   "metadata": {},
   "outputs": [
    {
     "data": {
      "text/html": [
       "<div>\n",
       "<style scoped>\n",
       "    .dataframe tbody tr th:only-of-type {\n",
       "        vertical-align: middle;\n",
       "    }\n",
       "\n",
       "    .dataframe tbody tr th {\n",
       "        vertical-align: top;\n",
       "    }\n",
       "\n",
       "    .dataframe thead th {\n",
       "        text-align: right;\n",
       "    }\n",
       "</style>\n",
       "<table border=\"1\" class=\"dataframe\">\n",
       "  <thead>\n",
       "    <tr style=\"text-align: right;\">\n",
       "      <th></th>\n",
       "      <th>tweet_text</th>\n",
       "      <th>emotion_in_tweet_is_directed_at</th>\n",
       "      <th>is_there_an_emotion_directed_at_a_brand_or_product</th>\n",
       "    </tr>\n",
       "  </thead>\n",
       "  <tbody>\n",
       "    <tr>\n",
       "      <th>9088</th>\n",
       "      <td>Ipad everywhere. #SXSW {link}</td>\n",
       "      <td>iPad</td>\n",
       "      <td>Positive emotion</td>\n",
       "    </tr>\n",
       "    <tr>\n",
       "      <th>9089</th>\n",
       "      <td>Wave, buzz... RT @mention We interrupt your re...</td>\n",
       "      <td>NaN</td>\n",
       "      <td>No emotion toward brand or product</td>\n",
       "    </tr>\n",
       "    <tr>\n",
       "      <th>9090</th>\n",
       "      <td>Google's Zeiger, a physician never reported po...</td>\n",
       "      <td>NaN</td>\n",
       "      <td>No emotion toward brand or product</td>\n",
       "    </tr>\n",
       "    <tr>\n",
       "      <th>9091</th>\n",
       "      <td>Some Verizon iPhone customers complained their...</td>\n",
       "      <td>NaN</td>\n",
       "      <td>No emotion toward brand or product</td>\n",
       "    </tr>\n",
       "    <tr>\n",
       "      <th>9092</th>\n",
       "      <td>Ï¡Ïàü_ÊÎÒ£Áââ_£â_ÛâRT @...</td>\n",
       "      <td>NaN</td>\n",
       "      <td>No emotion toward brand or product</td>\n",
       "    </tr>\n",
       "  </tbody>\n",
       "</table>\n",
       "</div>"
      ],
      "text/plain": [
       "                                             tweet_text  \\\n",
       "9088                      Ipad everywhere. #SXSW {link}   \n",
       "9089  Wave, buzz... RT @mention We interrupt your re...   \n",
       "9090  Google's Zeiger, a physician never reported po...   \n",
       "9091  Some Verizon iPhone customers complained their...   \n",
       "9092  Ï¡Ïàü_ÊÎÒ£Áââ_£â_ÛâRT @...   \n",
       "\n",
       "     emotion_in_tweet_is_directed_at  \\\n",
       "9088                            iPad   \n",
       "9089                             NaN   \n",
       "9090                             NaN   \n",
       "9091                             NaN   \n",
       "9092                             NaN   \n",
       "\n",
       "     is_there_an_emotion_directed_at_a_brand_or_product  \n",
       "9088                                   Positive emotion  \n",
       "9089                 No emotion toward brand or product  \n",
       "9090                 No emotion toward brand or product  \n",
       "9091                 No emotion toward brand or product  \n",
       "9092                 No emotion toward brand or product  "
      ]
     },
     "execution_count": 2,
     "metadata": {},
     "output_type": "execute_result"
    }
   ],
   "source": [
    "sentiments = pd.read_csv('./data/judge-1377884607_tweet_product_company.csv',encoding='ISO-8859-1')\n",
    "sentiments.tail()"
   ]
  },
  {
   "cell_type": "code",
   "execution_count": 3,
   "metadata": {},
   "outputs": [],
   "source": [
    "sentiments.rename(columns={\n",
    "    'emotion_in_tweet_is_directed_at':'product',\n",
    "    'is_there_an_emotion_directed_at_a_brand_or_product':'sentiment'\n",
    "},inplace=True)"
   ]
  },
  {
   "cell_type": "code",
   "execution_count": 4,
   "metadata": {},
   "outputs": [],
   "source": [
    "sentiments.dropna(subset=['tweet_text'],inplace=True)"
   ]
  },
  {
   "cell_type": "code",
   "execution_count": 5,
   "metadata": {},
   "outputs": [],
   "source": [
    "reclassify = sentiments[sentiments['sentiment'] == \"I can't tell\"]\n",
    "sentiments = sentiments[sentiments['sentiment'] != \"I can't tell\"]"
   ]
  },
  {
   "cell_type": "code",
   "execution_count": 6,
   "metadata": {
    "scrolled": true
   },
   "outputs": [
    {
     "data": {
      "text/plain": [
       "iPad                               942\n",
       "Apple                              659\n",
       "iPad or iPhone App                 470\n",
       "Google                             429\n",
       "iPhone                             296\n",
       "Other Google product or service    292\n",
       "Android App                         81\n",
       "Android                             78\n",
       "Other Apple product or service      35\n",
       "Name: product, dtype: int64"
      ]
     },
     "execution_count": 6,
     "metadata": {},
     "output_type": "execute_result"
    }
   ],
   "source": [
    "sentiments['product'].value_counts()"
   ]
  },
  {
   "cell_type": "code",
   "execution_count": 7,
   "metadata": {
    "scrolled": true
   },
   "outputs": [
    {
     "data": {
      "text/plain": [
       "No emotion toward brand or product    5388\n",
       "Positive emotion                      2978\n",
       "Negative emotion                       570\n",
       "Name: sentiment, dtype: int64"
      ]
     },
     "execution_count": 7,
     "metadata": {},
     "output_type": "execute_result"
    }
   ],
   "source": [
    "sentiments['sentiment'].value_counts()"
   ]
  },
  {
   "cell_type": "code",
   "execution_count": 8,
   "metadata": {},
   "outputs": [],
   "source": [
    "sw = stopwords.words('english')\n",
    "specific_words = ['@mention','link','sxsw','#sxsw','@sxsw']\n",
    "# ^^ these are the original extended stop words from initial data\n",
    "# discovery and knowledge \n",
    "discovered_words = [\n",
    "    'google','iphone', 'ipad', 'android', 'app',\n",
    "    'apple', 'rt', 'quot', 'store', 'new', 'austin'\n",
    "    ]\n",
    "specific_words.extend(discovered_words)\n",
    "sw.extend(specific_words)"
   ]
  },
  {
   "cell_type": "code",
   "execution_count": null,
   "metadata": {},
   "outputs": [],
   "source": [
    "# plot for feature importance\n",
    "\n",
    "\n",
    "nb = MultinomialNB()\n",
    "\n",
    "nb.fit(X_train_vectorized, y_train)\n",
    "\n",
    "feature_importances = nb.coef_[0]\n",
    "\n",
    "feature_importances_sorted = sorted(zip(feature_importances, vectorizer.get_feature_names()), reverse=True)\n",
    "\n",
    "N = 20\n",
    "top_features = [f[1] for f in feature_importances_sorted[:N]]\n",
    "top_importances = [f[0] for f in feature_importances_sorted[:N]]\n",
    "\n",
    "plt.barh(np.arange(len(top_features)), top_importances)\n",
    "plt.yticks(np.arange(len(top_features)), top_features)\n",
    "plt.title('Top {} Most Important Features'.format(N))\n",
    "plt.xlabel('Importance')\n",
    "plt.ylabel('Feature')\n",
    "plt.show()"
   ]
  },
  {
   "cell_type": "markdown",
   "metadata": {},
   "source": [
    "### Fitting a Naive Bayes Model"
   ]
  },
  {
   "cell_type": "markdown",
   "metadata": {},
   "source": [
    "$$\n",
    "\\begin{bmatrix}\n",
    " & \\text{Negative} & \\text{Neutral} & \\text{Positive} \\\\\n",
    "\\text{Negative} & \\text{True-Neg} & \\text{FNeu-Neg} & \\text{FP-Neg} \\\\\n",
    "\\text{Neutral} & \\text{False-Neg-Neu} & \\text{True-Neu} & \\text{False-P-Neu} \\\\\n",
    "\\text{Positive} & \\text{False-Neg} & \\text{False-Neu-Pos} & \\text{TP} \\\\\n",
    "\\end{bmatrix}\n",
    "$$"
   ]
  },
  {
   "cell_type": "code",
   "execution_count": null,
   "metadata": {},
   "outputs": [],
   "source": [
    "# confusion matrix plot\n",
    "\n",
    "\n",
    "nb2 = MultinomialNB()\n",
    "\n",
    "nb2.fit(tf_idf_train, y_train)\n",
    "\n",
    "fig, ax = plt.subplots(figsize=(12,12))\n",
    "plot_confusion_matrix(nb2, tf_idf_test, y_test, ax=ax, cmap=\"cividis\");"
   ]
  },
  {
   "cell_type": "code",
   "execution_count": 10,
   "metadata": {},
   "outputs": [],
   "source": [
    "sentiments['tokenized'], sentiments['tokens'] = \\\n",
    "    preprocess(sentiments['tweet_text'],sw=sw,ret_tokens=True)"
   ]
  },
  {
   "cell_type": "code",
   "execution_count": 22,
   "metadata": {},
   "outputs": [],
   "source": [
    "X = sentiments['tokenized']\n",
    "y = sentiments['sentiment']\n",
    "\n",
    "X_train, X_test, y_train, y_test = train_test_split(X, y, test_size=0.2, \n",
    "                                                    stratify=y,random_state=13)"
   ]
  },
  {
   "cell_type": "code",
   "execution_count": 23,
   "metadata": {},
   "outputs": [
    {
     "data": {
      "text/plain": [
       "2591    srsly love promo srsly hate excludes esp since...\n",
       "8138     happy make download free feature artist playlist\n",
       "4199    yes gowalla win best andoid team choice award ...\n",
       "5775    get free coverage know get best cellular data ...\n",
       "1448    good info improve website ranking advice amp bing\n",
       "                              ...                        \n",
       "1170       use ol help brit find hotel #gooddeed #winning\n",
       "7875         #posterous join pile posterous event #iphone\n",
       "7139                     look best disc create winner get\n",
       "2805     facebook big competitor say sq crowley #eurosxsw\n",
       "1903    never take fully charge grant pic edit tweet s...\n",
       "Name: tokenized, Length: 7148, dtype: object"
      ]
     },
     "execution_count": 23,
     "metadata": {},
     "output_type": "execute_result"
    }
   ],
   "source": [
    "X_train"
   ]
  },
  {
   "cell_type": "code",
   "execution_count": 24,
   "metadata": {},
   "outputs": [
    {
     "data": {
      "text/plain": [
       "TfidfVectorizer(encoding='ISO-8859-1', lowercase=False)"
      ]
     },
     "execution_count": 24,
     "metadata": {},
     "output_type": "execute_result"
    }
   ],
   "source": [
    "vectorizer = TfidfVectorizer(lowercase=False, encoding='ISO-8859-1',)\n",
    "\n",
    "vectorizer.fit(X_train)"
   ]
  },
  {
   "cell_type": "code",
   "execution_count": null,
   "metadata": {},
   "outputs": [],
   "source": []
  },
  {
   "cell_type": "code",
   "execution_count": 25,
   "metadata": {},
   "outputs": [],
   "source": [
    "X_train_vectorized = vectorizer.transform(X_train)\n",
    "X_test_vectorized = vectorizer.transform(X_test)"
   ]
  },
  {
   "cell_type": "code",
   "execution_count": 42,
   "metadata": {},
   "outputs": [
    {
     "data": {
      "image/png": "[encoded data removed]",
      "text/plain": [
       "<Figure size 864x864 with 2 Axes>"
      ]
     },
     "metadata": {},
     "output_type": "display_data"
    }
   ],
   "source": [
    "nb = MultinomialNB()\n",
    "\n",
    "nb.fit(X_train_vectorized, y_train)\n",
    "\n",
    "fig, ax = plt.subplots(figsize=(12,12))\n",
    "plot_confusion_matrix(nb, X_train_vectorized, y_train, ax=ax, cmap=\"cividis\");"
   ]
  },
  {
   "cell_type": "code",
   "execution_count": 32,
   "metadata": {},
   "outputs": [
    {
     "data": {
      "text/plain": [
       "0.7092261967476263"
      ]
     },
     "execution_count": 32,
     "metadata": {},
     "output_type": "execute_result"
    }
   ],
   "source": [
    "preds = nb.predict(X_train_vectorized)\n",
    "f1_score(y_train, preds, average='weighted')"
   ]
  },
  {
   "cell_type": "code",
   "execution_count": 38,
   "metadata": {
    "scrolled": true
   },
   "outputs": [
    {
     "data": {
      "text/plain": [
       "0.7491606043648573"
      ]
     },
     "execution_count": 38,
     "metadata": {},
     "output_type": "execute_result"
    }
   ],
   "source": [
    "f1_score(y_train, preds, average='micro')"
   ]
  },
  {
   "cell_type": "code",
   "execution_count": 37,
   "metadata": {},
   "outputs": [
    {
     "data": {
      "text/plain": [
       "array([0.08786611, 0.8300108 , 0.60962861])"
      ]
     },
     "execution_count": 37,
     "metadata": {},
     "output_type": "execute_result"
    }
   ],
   "source": [
    "f1_score(y_train, preds, average=None)"
   ]
  },
  {
   "cell_type": "code",
   "execution_count": 49,
   "metadata": {
    "scrolled": true
   },
   "outputs": [
    {
     "data": {
      "image/png": "[encoded data removed]",
      "text/plain": [
       "<Figure size 1080x720 with 1 Axes>"
      ]
     },
     "metadata": {},
     "output_type": "display_data"
    }
   ],
   "source": [
    "# get the coefficient and sort them\n",
    "coef = nb.coef_[0]\n",
    "top_positive_coefficients = np.argsort(coef)[:10]\n",
    "\n",
    "\n",
    "plt.figure(figsize=(15, 10))\n",
    "colors = ['red' if c < 0 else 'blue' for c in coef[top_positive_coefficients]]\n",
    "plt.barh(np.arange(len(top_positive_coefficients)), coef[top_positive_coefficients], color=colors)\n",
    "feature_names = np.array(vectorizer.get_feature_names())\n",
    "plt.yticks(np.arange(len(top_positive_coefficients)), feature_names[top_positive_coefficients], rotation=0, ha='right')\n",
    "plt.ylabel('Features')\n",
    "plt.xlabel('Coefficient')\n",
    "plt.title('Most Predictive Features and Associated Coefficients - Naive Bayes')\n",
    "plt.show()"
   ]
  },
  {
   "cell_type": "code",
   "execution_count": null,
   "metadata": {},
   "outputs": [
    {
     "name": "stdout",
     "output_type": "stream",
     "text": [
      "Fitting 5 folds for each of 8 candidates, totalling 40 fits\n"
     ]
    },
    {
     "name": "stderr",
     "output_type": "stream",
     "text": [
      "[Parallel(n_jobs=-1)]: Using backend LokyBackend with 16 concurrent workers.\n"
     ]
    }
   ],
   "source": [
    "rfc = RandomForestClassifier(random_state=13)\n",
    "knc = KNeighborsClassifier()\n",
    "mnb = MultinomialNB()\n",
    "svc = SVC(random_state=13)\n",
    "\n",
    "rfc_grid = {\n",
    "    'max_depth':[10,15,20,25,30],\n",
    "    'min_samples_split':[10,15,20,25,30]\n",
    "}\n",
    "knc_grid = {\n",
    "    'n_neighbors':[3,5,7,9]\n",
    "}\n",
    "mnb_grid = {\n",
    "}\n",
    "svc_grid = {\n",
    "    'kernel':['poly','rbf'],\n",
    "    'degree':[3,4,5]\n",
    "}\n",
    "\n",
    "rfc = GridSearchCV(\n",
    "    rfc,rfc_grid\n",
    ")\n",
    "knc = GridSearchCV(\n",
    "    knc,knc_grid\n",
    ")\n",
    "mnb = GridSearchCV(\n",
    "    mnb,mnb_grid\n",
    ")\n",
    "svc = GridSearchCV(\n",
    "    svc,svc_grid\n",
    ")\n",
    "\n",
    "classifiers = [rfc,knc,mnb,svc]\n",
    "\n",
    "\n",
    "o = SMOTE()\n",
    "pipe = imbPipeline(\n",
    "    steps=[\n",
    "        ('o',o),\n",
    "        ('search',DummyClassifier())\n",
    "        # ()\n",
    "    ]\n",
    ")\n",
    "\n",
    "scoring = 'f1_weighted'\n",
    "\n",
    "grid = {\n",
    "    'o':['passthrough',o],\n",
    "    # 'o__k_neighbors':[3,5,7],\n",
    "    'search':[*classifiers]\n",
    "}\n",
    "\n",
    "gs = GridSearchCV(\n",
    "    pipe,grid,scoring=scoring,\n",
    "    verbose=1, n_jobs=-1\n",
    ")\n",
    "gs.fit(X_train_vectorized, y_train)"
   ]
  }
 ],
 "metadata": {
  "kernelspec": {
   "display_name": "Python (learn-env)",
   "language": "python",
   "name": "learn-env"
  },
  "language_info": {
   "codemirror_mode": {
    "name": "ipython",
    "version": 3
   },
   "file_extension": ".py",
   "mimetype": "text/x-python",
   "name": "python",
   "nbconvert_exporter": "python",
   "pygments_lexer": "ipython3",
   "version": "3.8.5"
  }
 },
 "nbformat": 4,
 "nbformat_minor": 2
}
